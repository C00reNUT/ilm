{
 "cells": [
  {
   "cell_type": "code",
   "execution_count": 1,
   "metadata": {},
   "outputs": [],
   "source": [
    "MODEL_DIR = None\n",
    "MASK_CLS = 'ilm.mask.hierarchical.MaskHierarchical'"
   ]
  },
  {
   "cell_type": "code",
   "execution_count": 2,
   "metadata": {},
   "outputs": [
    {
     "name": "stdout",
     "output_type": "stream",
     "text": [
      "File ‘/tmp/ilm/eval_repro/models/sto_ilm/pytorch_model.bin’ already there; not retrieving.\n",
      "File ‘/tmp/ilm/eval_repro/models/sto_ilm/config.json’ already there; not retrieving.\n"
     ]
    }
   ],
   "source": [
    "# Download pretrained model\n",
    "\n",
    "if MODEL_DIR is None:\n",
    "    !wget -nc --load-cookies /tmp/cookies.txt \"https://docs.google.com/uc?export=download&confirm=$(wget --quiet --save-cookies /tmp/cookies.txt --keep-session-cookies --no-check-certificate 'https://docs.google.com/uc?export=download&id=1oYFLxkX6mWbmpEwQH8BmgE7iKix2W0zU' -O- | sed -rn 's/.*confirm=([0-9A-Za-z_]+).*/\\1\\n/p')&id=1oYFLxkX6mWbmpEwQH8BmgE7iKix2W0zU\" -O /tmp/ilm/eval_repro/models/sto_ilm/pytorch_model.bin && rm -rf /tmp/cookies.txt\n",
    "    !wget -nc --no-check-certificate 'https://docs.google.com/uc?export=download&id=15JnXi7L6LeEB2fq4dFK2WRvDKyX46hVi' -O /tmp/ilm/eval_repro/models/sto_ilm/config.json\n",
    "    MODEL_DIR = '/tmp/ilm/eval_repro/models/sto_ilm'"
   ]
  },
  {
   "cell_type": "code",
   "execution_count": 3,
   "metadata": {},
   "outputs": [
    {
     "name": "stdout",
     "output_type": "stream",
     "text": [
      "{'<|startofinfill|>': 50257, '<|endofinfill|>': 50258, '<|infill_document|>': 50259, '<|infill_paragraph|>': 50260, '<|infill_sentence|>': 50261, '<|infill_ngram|>': 50262, '<|infill_word|>': 50263}\n"
     ]
    }
   ],
   "source": [
    "# Prepare tokenizer\n",
    "\n",
    "import os\n",
    "import pickle\n",
    "\n",
    "import ilm.mask.util\n",
    "import ilm.tokenize_util\n",
    "\n",
    "# Create tokenizer\n",
    "tokenizer = ilm.tokenize_util.Tokenizer.GPT2\n",
    "\n",
    "# Update tokenizer with mask types\n",
    "with open(os.path.join(MODEL_DIR, 'additional_ids_to_tokens.pkl'), 'rb') as f:\n",
    "    additional_ids_to_tokens = pickle.load(f)\n",
    "additional_tokens_to_ids = {v:k for k, v in additional_ids_to_tokens.items()}\n",
    "print(additional_tokens_to_ids)\n",
    "try:\n",
    "    ilm.tokenize_util.update_tokenizer(additional_ids_to_tokens, tokenizer)\n",
    "except ValueError:\n",
    "    print('Already updated')"
   ]
  },
  {
   "cell_type": "code",
   "execution_count": 4,
   "metadata": {},
   "outputs": [],
   "source": [
    "# Load model\n",
    "\n",
    "import torch\n",
    "from transformers import GPT2LMHeadModel\n",
    "\n",
    "device = torch.device('cuda' if torch.cuda.is_available() else 'cpu')\n",
    "model = GPT2LMHeadModel.from_pretrained(MODEL_DIR)\n",
    "model.eval()\n",
    "_ = model.to(device)"
   ]
  },
  {
   "cell_type": "code",
   "execution_count": 30,
   "metadata": {},
   "outputs": [
    {
     "name": "stdout",
     "output_type": "stream",
     "text": [
      "Math Class\n",
      "Chris was bad at<|infill_word|>.<|infill_sentence|><|infill_sentence|><|infill_sentence|> He ended up failing the test.\n"
     ]
    }
   ],
   "source": [
    "# Create context\n",
    "\n",
    "x = \"\"\"\n",
    "Math Class\n",
    "Chris was bad at _. _ _ _ He ended up failing the test.\n",
    "\"\"\".strip()\n",
    "\n",
    "x_ids = ilm.tokenize_util.encode(x, tokenizer)\n",
    "\n",
    "# Replace blanks with appropriate tokens from left to right\n",
    "_blank_id = ilm.tokenize_util.encode(' _', tokenizer)[0]\n",
    "x_ids[x_ids.index(_blank_id)] = additional_tokens_to_ids['<|infill_word|>']\n",
    "x_ids[x_ids.index(_blank_id)] = additional_tokens_to_ids['<|infill_sentence|>']\n",
    "x_ids[x_ids.index(_blank_id)] = additional_tokens_to_ids['<|infill_sentence|>']\n",
    "x_ids[x_ids.index(_blank_id)] = additional_tokens_to_ids['<|infill_sentence|>']\n",
    "print(ilm.tokenize_util.decode(x_ids, tokenizer))"
   ]
  },
  {
   "cell_type": "code",
   "execution_count": 35,
   "metadata": {},
   "outputs": [
    {
     "name": "stdout",
     "output_type": "stream",
     "text": [
      "Math Class\n",
      "Chris was bad at math. He started to fail the class. He became sad. He didn't want to disappoint his parents. He ended up failing the test.\n"
     ]
    }
   ],
   "source": [
    "from infer import infill_with_ilm\n",
    "\n",
    "generated = infill_with_ilm(\n",
    "    model,\n",
    "    additional_tokens_to_ids,\n",
    "    x_ids)\n",
    "for g in generated:\n",
    "    print(ilm.tokenize_util.decode(g, tokenizer))"
   ]
  }
 ],
 "metadata": {
  "kernelspec": {
   "display_name": "ilm",
   "language": "python",
   "name": "ilm"
  },
  "language_info": {
   "codemirror_mode": {
    "name": "ipython",
    "version": 3
   },
   "file_extension": ".py",
   "mimetype": "text/x-python",
   "name": "python",
   "nbconvert_exporter": "python",
   "pygments_lexer": "ipython3",
   "version": "3.6.9"
  }
 },
 "nbformat": 4,
 "nbformat_minor": 4
}
